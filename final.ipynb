{
  "metadata": {
    "language_info": {
      "codemirror_mode": {
        "name": "python",
        "version": 3
      },
      "file_extension": ".py",
      "mimetype": "text/x-python",
      "name": "python",
      "nbconvert_exporter": "python",
      "pygments_lexer": "ipython3",
      "version": "3.8"
    },
    "kernelspec": {
      "name": "python",
      "display_name": "Python (Pyodide)",
      "language": "python"
    }
  },
  "nbformat_minor": 4,
  "nbformat": 4,
  "cells": [
    {
      "cell_type": "code",
      "source": "!pip install mysql.connector ",
      "metadata": {},
      "execution_count": null,
      "outputs": []
    },
    {
      "cell_type": "code",
      "source": "import mysql.connector as connector\nfrom mysql.connector import Error",
      "metadata": {},
      "execution_count": null,
      "outputs": []
    },
    {
      "cell_type": "code",
      "source": "connection = connector.connect(user = \"root\", password = \"constanta\", db = \"littlelemon\")\ncursor = connection.cursor()",
      "metadata": {},
      "execution_count": null,
      "outputs": []
    },
    {
      "cell_type": "code",
      "source": "show_tables_query = \"SHOW tables\"\ncursor.execute(show_tables_query)\nresults = cursor.fetchall()\nfor i in results:\n    print(i)",
      "metadata": {},
      "execution_count": null,
      "outputs": []
    },
    {
      "cell_type": "code",
      "source": "customer_promo = \"select distinct concat(customers.firstname,' ', customers.lastname) as fullname , customers.contactnumber , orders.totalcost from customers join orders on customers.customerid=orders.customerid where totalcost >= 60\"\ncursor.execute(customer_promo)\nresults = cursor.fetchall()\n\ncolumns=cursor.column_names\nprint(columns)\n\nfor i in results:\n    print(i)",
      "metadata": {},
      "execution_count": null,
      "outputs": []
    }
  ]
}